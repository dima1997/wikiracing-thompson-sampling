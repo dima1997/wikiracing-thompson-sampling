{
 "cells": [
  {
   "cell_type": "code",
   "execution_count": 164,
   "id": "9dab3020-aa32-43ba-9d5a-b4dae423bdb5",
   "metadata": {},
   "outputs": [],
   "source": [
    "from scipy import stats\n",
    "import numpy as np\n",
    "import matplotlib.pyplot as plt\n",
    "import plotly.express as px \n",
    "from plotly.subplots import make_subplots\n",
    "import plotly.graph_objs as go\n",
    "import time\n",
    "import plotly.io as pio\n",
    "pio.renderers.default = 'iframe'"
   ]
  },
  {
   "cell_type": "code",
   "execution_count": 147,
   "id": "cbfecf58-34b5-4492-a63c-a272d896672b",
   "metadata": {},
   "outputs": [],
   "source": [
    "class BernouilliThompsonSampling:\n",
    "    def __init__(self, num_arms, parameters_to_estimate):\n",
    "        self.num_arms = num_arms\n",
    "        self.parameters_to_estimate = parameters_to_estimate\n",
    "        self.regrets = []\n",
    "        self.n_iters = 0\n",
    "\n",
    "    def init_priors(self):\n",
    "        self.prior_distributions = [(1,1) for _ in range(self.num_arms)]\n",
    "\n",
    "    def sample_priors(self):\n",
    "        return [np.random.beta(a, b) for (a, b) in self.prior_distributions]\n",
    "\n",
    "    def get_reward(self, sampled_value, chosen_arm_index):\n",
    "        return int(sampled_value < self.parameters_to_estimate[chosen_arm_index])\n",
    "\n",
    "    def update_priors(self, arm_index, reward):\n",
    "        current_distrib = self.prior_distributions[arm_index]\n",
    "        self.prior_distributions[arm_index] = (current_distrib[0] + reward, current_distrib[1] + 1 - reward)\n",
    "        self.n_iters += 1\n",
    "        \n",
    "    def compute_regret(self, chosen_arm_index):\n",
    "        optimal_reward = max(self.parameters_to_estimate)\n",
    "        chosen_reward = self.parameters_to_estimate[chosen_arm_index]\n",
    "        regret = optimal_reward - chosen_reward\n",
    "        self.regrets.append(regret)\n",
    "\n",
    "    def show(self):\n",
    "        fig = make_subplots(rows=1, cols=2, subplot_titles=(\"Beta distributions\", \"Cumulative Regret\"))\n",
    "\n",
    "        for i, (a, b) in enumerate(self.prior_distributions):\n",
    "            x = np.linspace(stats.beta.ppf(0.001, a, b), stats.beta.ppf(0.999, a, b), 200)\n",
    "            beta_pdf = stats.beta.pdf(x, a, b)\n",
    "            fig.add_trace(go.Scatter(x=x,\n",
    "                                     y=beta_pdf,\n",
    "                                     mode='lines',\n",
    "                                     name=f'Theoretical_reward : {self.parameters_to_estimate[i]} - Success/Fails : {self.prior_distributions[i]}'),\n",
    "                          row=1, col=1)\n",
    "        fig.add_trace(go.Scatter(x=list(range(len(self.regrets))), y=np.cumsum(self.regrets), mode='lines', name='Cumulative regrets'), row=1, col=2)\n",
    "\n",
    "        fig.update_layout(title_text=f\"Itération : {self.n_iters}\")\n",
    "        fig.show()\n",
    "         "
   ]
  },
  {
   "cell_type": "code",
   "execution_count": 3,
   "id": "cf7902f2-2f22-49e6-b304-621ccbd08e34",
   "metadata": {},
   "outputs": [
    {
     "data": {
      "text/html": [
       "<iframe\n",
       "    scrolling=\"no\"\n",
       "    width=\"100%\"\n",
       "    height=\"545px\"\n",
       "    src=\"iframe_figures/figure_3.html\"\n",
       "    frameborder=\"0\"\n",
       "    allowfullscreen\n",
       "></iframe>\n"
      ]
     },
     "metadata": {},
     "output_type": "display_data"
    },
    {
     "data": {
      "text/html": [
       "<iframe\n",
       "    scrolling=\"no\"\n",
       "    width=\"100%\"\n",
       "    height=\"545px\"\n",
       "    src=\"iframe_figures/figure_3.html\"\n",
       "    frameborder=\"0\"\n",
       "    allowfullscreen\n",
       "></iframe>\n"
      ]
     },
     "metadata": {},
     "output_type": "display_data"
    },
    {
     "data": {
      "text/html": [
       "<iframe\n",
       "    scrolling=\"no\"\n",
       "    width=\"100%\"\n",
       "    height=\"545px\"\n",
       "    src=\"iframe_figures/figure_3.html\"\n",
       "    frameborder=\"0\"\n",
       "    allowfullscreen\n",
       "></iframe>\n"
      ]
     },
     "metadata": {},
     "output_type": "display_data"
    },
    {
     "data": {
      "text/html": [
       "<iframe\n",
       "    scrolling=\"no\"\n",
       "    width=\"100%\"\n",
       "    height=\"545px\"\n",
       "    src=\"iframe_figures/figure_3.html\"\n",
       "    frameborder=\"0\"\n",
       "    allowfullscreen\n",
       "></iframe>\n"
      ]
     },
     "metadata": {},
     "output_type": "display_data"
    },
    {
     "data": {
      "text/html": [
       "<iframe\n",
       "    scrolling=\"no\"\n",
       "    width=\"100%\"\n",
       "    height=\"545px\"\n",
       "    src=\"iframe_figures/figure_3.html\"\n",
       "    frameborder=\"0\"\n",
       "    allowfullscreen\n",
       "></iframe>\n"
      ]
     },
     "metadata": {},
     "output_type": "display_data"
    },
    {
     "data": {
      "text/html": [
       "<iframe\n",
       "    scrolling=\"no\"\n",
       "    width=\"100%\"\n",
       "    height=\"545px\"\n",
       "    src=\"iframe_figures/figure_3.html\"\n",
       "    frameborder=\"0\"\n",
       "    allowfullscreen\n",
       "></iframe>\n"
      ]
     },
     "metadata": {},
     "output_type": "display_data"
    },
    {
     "data": {
      "text/html": [
       "<iframe\n",
       "    scrolling=\"no\"\n",
       "    width=\"100%\"\n",
       "    height=\"545px\"\n",
       "    src=\"iframe_figures/figure_3.html\"\n",
       "    frameborder=\"0\"\n",
       "    allowfullscreen\n",
       "></iframe>\n"
      ]
     },
     "metadata": {},
     "output_type": "display_data"
    },
    {
     "data": {
      "text/html": [
       "<iframe\n",
       "    scrolling=\"no\"\n",
       "    width=\"100%\"\n",
       "    height=\"545px\"\n",
       "    src=\"iframe_figures/figure_3.html\"\n",
       "    frameborder=\"0\"\n",
       "    allowfullscreen\n",
       "></iframe>\n"
      ]
     },
     "metadata": {},
     "output_type": "display_data"
    },
    {
     "data": {
      "text/html": [
       "<iframe\n",
       "    scrolling=\"no\"\n",
       "    width=\"100%\"\n",
       "    height=\"545px\"\n",
       "    src=\"iframe_figures/figure_3.html\"\n",
       "    frameborder=\"0\"\n",
       "    allowfullscreen\n",
       "></iframe>\n"
      ]
     },
     "metadata": {},
     "output_type": "display_data"
    },
    {
     "data": {
      "text/html": [
       "<iframe\n",
       "    scrolling=\"no\"\n",
       "    width=\"100%\"\n",
       "    height=\"545px\"\n",
       "    src=\"iframe_figures/figure_3.html\"\n",
       "    frameborder=\"0\"\n",
       "    allowfullscreen\n",
       "></iframe>\n"
      ]
     },
     "metadata": {},
     "output_type": "display_data"
    }
   ],
   "source": [
    "num_arms = 10\n",
    "num_iters = 500\n",
    "eval_iters = 50\n",
    "\n",
    "parameters_to_estimate = np.random.uniform(low=0, high=1, size=num_arms)\n",
    "bt_sampling = BernouilliThompsonSampling(num_arms, parameters_to_estimate)\n",
    "bt_sampling.init_priors()\n",
    "\n",
    "for i in range(num_iters):\n",
    "    sampled_values = bt_sampling.sample_priors()\n",
    "    best_arm_index = np.argmax(sampled_values)\n",
    "    \n",
    "    associated_reward = bt_sampling.get_reward(sampled_value=sampled_values[best_arm_index],\n",
    "                                               chosen_arm_index=best_arm_index)\n",
    "    bt_sampling.update_priors(best_arm_index, associated_reward)\n",
    "    bt_sampling.compute_regret(best_arm_index)\n",
    "\n",
    "    if i % eval_iters == eval_iters - 1:\n",
    "        time.sleep(1)\n",
    "        bt_sampling.show()\n",
    "        "
   ]
  }
 ],
 "metadata": {
  "kernelspec": {
   "display_name": "Python 3 (ipykernel)",
   "language": "python",
   "name": "python3"
  },
  "language_info": {
   "codemirror_mode": {
    "name": "ipython",
    "version": 3
   },
   "file_extension": ".py",
   "mimetype": "text/x-python",
   "name": "python",
   "nbconvert_exporter": "python",
   "pygments_lexer": "ipython3",
   "version": "3.11.6"
  }
 },
 "nbformat": 4,
 "nbformat_minor": 5
}
